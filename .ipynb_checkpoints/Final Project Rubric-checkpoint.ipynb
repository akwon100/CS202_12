{
 "cells": [
  {
   "cell_type": "markdown",
   "metadata": {},
   "source": [
    "# Final Project: Due Monday, Dec. 12. 2022 NOON\n",
    "\n",
    "You are given the King County housing data by a real estate agent. The agents asks that you prepare a presentation to show what is optimal for selling a house. You are required to ask two business questions from your personal observation of the data (as in project 1). For example: is there a particular day of the week that sells better than others? If so, that would be something you want to tell your agent. You will then be required to create a linear regression model to tell your agent what are the most important features of the house that the agent should pay most attention to. \n",
    "<br>\n",
    "<br>It's been modified so you will need to clean the data. \n",
    "<br>\n",
    "<br>Here is the rubric for a grade of A- to A: Each section should have it's own Markdown. \n",
    "<br>You will need at least 5 sections for this project. MAKE SURE TO COMMENT YOUR CODE!\n",
    "<br>Section ONE should be Observing and Cleaning Data: (14 pts)\n",
    "1. (7 pts) You should have at least two graphs. This will mainly be used for cleaning data.  \n",
    "2. (7 pts) You should use pandas to fill in any missing data.\n",
    "\n",
    "<br>Section TWO should be asking 2 business questions, for EACH question: (16 pts) - (8 pts per question)\n",
    "1. (1 pt) Have a markdown for each question\n",
    "2. (5pts) You should have at least 2 graphs for both questions only using matplotlib to propose the business questions you will be asking. \n",
    "3. (2 pts) Have a markdown answering the question\n",
    "\n",
    "<br>Section Three should be preparing Data: (20 pts)\n",
    "1. You must take care of all categorical values (7 pts)\n",
    "2. Take care of any outliers (4 pts)\n",
    "3. Check for multicolinearity (should include a heatmap) (2 pts)\n",
    "4. Normalize your data (7 pts)\n",
    "\n",
    "<br>Section Four should be creating your Linear Regression Model: (40 pts)\n",
    "1. (30 pts)- (10 pts for the first iteration and 20 points for the second iteration) You must have at least TWO iterations of your linear regression model (use K-Folds Cross Validation)\n",
    "2. (5 pts) A summary of your model: \n",
    "    <br>a. Coefficients of each feature, the y-intercept\n",
    "    <br>b. You must include your metrics: MAE, MSE, RMSE\n",
    "4. (5 pts) Must include one graph showing the accuracy of your model. \n",
    "\n",
    "<br>Section Five should be Finalizaing your project: (10 pts)\n",
    "1. (5 pts) You must include a summary/conclusion in a markdown. This should include: \n",
    "    <br>a. The question and conclusion of all the business questions you've asked \n",
    "    <br>b. The conclusion of your linear regression model. \n",
    "2. (5 pts) Slides\n",
    "\n",
    "<br>\n",
    "<br>On your slide: \n",
    "<br>You are presenting to the agent who is NOT a data scientist and does NOT know how to code. \n",
    "You want to explain to your agent the conclusions of your findings supported by graphs. Your agent fully trusts in your ability to perform the task given to you, has paid you well and does not have the luxury of time to go over every detail of your findings. Make sure your SLIDE presentation is NO longer than 5 minutes!\n",
    "<br>\n",
    "<br>Additionally a FULL 10 minutes (you may go over a minute or so) will be used to present your Jupyter Notebook. Make sure that everything is running and you have no errors.\n",
    "<br>\n",
    "<br>You project will be submitted through blackbaord NO LATER THAN MONDAY DEC. 12, 2022. 12PM\n",
    " "
   ]
  },
  {
   "cell_type": "markdown",
   "metadata": {},
   "source": [
    "Data set column names:\n",
    "\n",
    "- id: unique identified for a house\n",
    "- dateDate: house was sold\n",
    "- pricePrice: is prediction target\n",
    "- bedroomsNumber: of Bedrooms/House\n",
    "- bathroomsNumber: of bathrooms/bedrooms\n",
    "- sqft_livingsquare: footage of the home\n",
    "- sqft_lotsquare: footage of the lot\n",
    "- floorsTotal: floors (levels) in house\n",
    "- waterfront: House which has a view to a waterfront\n",
    "- view: Has been viewed\n",
    "- condition: How good the condition is ( Overall )\n",
    "- grade: overall grade given to the housing unit, based on King County grading system\n",
    "- sqft_above: square footage of house apart from basement\n",
    "- sqft_basement: square footage of the basement\n",
    "- yr_built: Built Year\n",
    "- yr_renovated: Year when house was renovated\n",
    "- zipcode: zip\n",
    "- lat: Latitude coordinate\n",
    "- long: Longitude coordinate\n",
    "- sqft_living15: The square footage of interior housing living space for the nearest 15 neighbors\n",
    "- sqft_lot15: The square footage of the land lots of the nearest 15 neighbors\n"
   ]
  },
  {
   "cell_type": "code",
   "execution_count": null,
   "metadata": {},
   "outputs": [],
   "source": []
  }
 ],
 "metadata": {
  "kernelspec": {
   "display_name": "Python 3",
   "language": "python",
   "name": "python3"
  },
  "language_info": {
   "codemirror_mode": {
    "name": "ipython",
    "version": 3
   },
   "file_extension": ".py",
   "mimetype": "text/x-python",
   "name": "python",
   "nbconvert_exporter": "python",
   "pygments_lexer": "ipython3",
   "version": "3.7.4"
  }
 },
 "nbformat": 4,
 "nbformat_minor": 2
}
